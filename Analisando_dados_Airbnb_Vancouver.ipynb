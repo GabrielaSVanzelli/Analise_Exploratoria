{
  "nbformat": 4,
  "nbformat_minor": 0,
  "metadata": {
    "colab": {
      "name": "Projeto Airbnb",
      "provenance": [],
      "collapsed_sections": [],
      "authorship_tag": "ABX9TyNsQKaihyZDmuaUFggaADaM",
      "include_colab_link": true
    },
    "kernelspec": {
      "name": "python3",
      "display_name": "Python 3"
    },
    "language_info": {
      "name": "python"
    }
  },
  "cells": [
    {
      "cell_type": "markdown",
      "metadata": {
        "id": "view-in-github",
        "colab_type": "text"
      },
      "source": [
        "<a href=\"https://colab.research.google.com/github/GabrielaSVanzelli/Data-Science/blob/main/Analisando_dados_Airbnb_Vancouver.ipynb\" target=\"_parent\"><img src=\"https://colab.research.google.com/assets/colab-badge.svg\" alt=\"Open In Colab\"/></a>"
      ]
    },
    {
      "cell_type": "markdown",
      "source": [
        "# **Airbnb Data Analysis - Vancouver, British Columbia, Canada**\n",
        "\n",
        "Airbnb is already considered the largest hotel company today. And the detail is that he doesn't own any hotel!!!\n",
        "\n",
        "Conveniently connecting people who want to travel (and stay) with hosts who want to rent their properties, Airbnb provides an innovative platform to make this hosting alternative.\n",
        "\n",
        "By the end of 2018, the Startup (founded 10 years ago) had already hosted more than 300 million people around the world, challenging traditional hotel chains.\n",
        "\n",
        "<center><img alt=\"Analisando Airbnb\" width=\"90%\" src=\"https://raw.githubusercontent.com/GabrielaSVanzelli/images/main/beautiful-shot-of-the-boats-parked-near-the-coal-harbour-in-vancouver.jpg\"></center>\n",
        "\n",
        "Airbnb makes website data available for some of the world's major cities through the portal [Inside Airbnb](http://insideairbnb.com/get-the-data.html).\n",
        "\n",
        "  On the website, it is possible to download a large amount of data to develop *Data Science* projects and solutions.\n",
        "\n",
        "---\n",
        "\n",
        "**In this notebook, we will analyze data for the city of Vancouver, located in the province of British Columbia, Canada, and see what insights can be extracted from the raw data.**\n"
      ],
      "metadata": {
        "id": "MCPkihOV7mrG"
      }
    },
    {
      "cell_type": "markdown",
      "source": [
        "#### **Obtaining the Data**\n",
        "\n",
        "All data used here was obtained from the [Inside Airbnb](http://insideairbnb.com/get-the-data.html) website.\n",
        "\n",
        "<center><img alt=\"Analisando Airbnb\" width=\"20%\" src=\"https://www.area360.com.au/wp-content/uploads/2017/09/airbnb-logo.jpg\"></center>\n",
        "\n",
        "For this initial exploratory analysis, only the following file will be downloaded:\n",
        "\n",
        "* `listings.csv` - Summary information and metrics for listings in Vancouver (good for visualisations).\n",
        "\n",
        "Important: The portal is constantly evolving, and at some point, the exact [dataset](http://data.insideairbnb.com/canada/bc/vancouver/2022-01-09/visualisations/listings.csv) used in this notebook may no longer be available, which would break our code.\n",
        "\n",
        "With that in mind, we provide [here](https://www.dropbox.com/s/0ss5mv8oebq767j/listings.csv?dl=0) the set we use, so that you can always use this material.\n",
        "\n",
        "*With that in mind, let's get to the project.*\n"
      ],
      "metadata": {
        "id": "sh4vDniJ_aXZ"
      }
    },
    {
      "cell_type": "code",
      "execution_count": null,
      "metadata": {
        "id": "XnRMtY396OC2"
      },
      "outputs": [],
      "source": [
        "# import the necessary library (libs)\n",
        "import pandas as pd \n",
        "import matplotlib.pyplot as plt \n",
        "import seaborn as sns \n",
        "\n",
        "%matplotlib inline "
      ]
    },
    {
      "cell_type": "code",
      "source": [
        "# import the listings.csv file for a DataFrame\n",
        "df = pd.read_csv('http://data.insideairbnb.com/canada/bc/vancouver/2022-01-09/visualisations/listings.csv')"
      ],
      "metadata": {
        "id": "KlrhxqtK6SS6"
      },
      "execution_count": null,
      "outputs": []
    },
    {
      "cell_type": "markdown",
      "source": [
        "## **Data Analysis**\n",
        "\n",
        "This step aims to create an awareness of the initial situation and allow an understanding of how the data are structured."
      ],
      "metadata": {
        "id": "XE0zTa5K-nif"
      }
    },
    {
      "cell_type": "markdown",
      "source": [
        "**Dictionary of dataset variables**\n",
        "\n",
        "* `id` - Airbnb's unique identifier for the listing\n",
        "* `name` - Advertised property name\n",
        "* `host_id` - Airbnb's unique identifier for the host/user \n",
        "* `host_name` - Host name\n",
        "* `neighbourhood_group` - This column does not contain any valid values\n",
        "* `neighborhood` - Neighborhood name\n",
        "* `lalitude` - Coordinate of the property's latitude\n",
        "* `longitude` - Coordinate of the property's longitude\n",
        "* `room_type` - Informs the type of room that is offered\n",
        "* `price` - Price to rent the property\n",
        "* `minimum_nights` - Minimum amount of nights to book\n",
        "* `number_of_reviews` - Number of reviews the property has\n",
        "* `last_review` - Date of the last review\n",
        "* `reviews_per_month` - Number of reviews per month\n",
        "* `calculated_host_listing_count` - Number of properties from the same host\n",
        "* `availability_365` - Number of days of availability within 365 days\n",
        "* `number_of_reviews_ltm` - The number of reviews the listing has (in the last 12  months)\n",
        "* `licence` - The license/permit/registration number "
      ],
      "metadata": {
        "id": "hA8ZrHS3AFt7"
      }
    },
    {
      "cell_type": "markdown",
      "source": [
        "Before starting any analysis, let's check the face of our *dataset*, analyzing the first 5 inputs."
      ],
      "metadata": {
        "id": "0JMsiPHkCX9A"
      }
    },
    {
      "cell_type": "code",
      "source": [
        "# show first five inputs\n",
        "df.head()"
      ],
      "metadata": {
        "colab": {
          "base_uri": "https://localhost:8080/",
          "height": 478
        },
        "id": "ln6f7DW56zAf",
        "outputId": "d72d4fb6-df4e-4dde-e6ab-294fe03ca805"
      },
      "execution_count": null,
      "outputs": [
        {
          "output_type": "execute_result",
          "data": {
            "text/plain": [
              "      id                                               name  host_id  \\\n",
              "0  10080                     D1 -  Million Dollar View 2 BR    30899   \n",
              "1  13188                  Garden level studio in ideal loc.    51466   \n",
              "2  13358  Monthly (or Longer ) Designer One Bedroom Down...    52116   \n",
              "3  13490                       Vancouver's best kept secret    52467   \n",
              "4  14267                                  EcoLoft Vancouver    56030   \n",
              "\n",
              "        host_name  neighbourhood_group             neighbourhood  latitude  \\\n",
              "0            Rami                  NaN                  Downtown  49.28872   \n",
              "1     Family Guns                  NaN                Riley Park  49.24773   \n",
              "2            Lynn                  NaN                  West End  49.28201   \n",
              "3            Iris                  NaN  Kensington-Cedar Cottage  49.25622   \n",
              "4  Peter & Alison                  NaN  Kensington-Cedar Cottage  49.24922   \n",
              "\n",
              "   longitude        room_type  price  minimum_nights  number_of_reviews  \\\n",
              "0 -123.12046  Entire home/apt    158              90                 16   \n",
              "1 -123.10509  Entire home/apt    150               2                256   \n",
              "2 -123.12669  Entire home/apt     85              30                432   \n",
              "3 -123.06607  Entire home/apt    150              30                 92   \n",
              "4 -123.08139  Entire home/apt    150               3                 34   \n",
              "\n",
              "  last_review  reviews_per_month  calculated_host_listings_count  \\\n",
              "0  2017-02-26               0.13                              40   \n",
              "1  2022-01-01               1.77                               1   \n",
              "2  2021-12-24               3.07                               1   \n",
              "3  2021-12-14               0.71                               1   \n",
              "4  2021-07-14               0.25                               1   \n",
              "\n",
              "   availability_365  number_of_reviews_ltm    license  \n",
              "0                 4                      0  18-476608  \n",
              "1               180                      9  22-156193  \n",
              "2                29                      2  18-611603  \n",
              "3               251                      4        NaN  \n",
              "4                43                      1  21-156500  "
            ],
            "text/html": [
              "\n",
              "  <div id=\"df-faa83eba-40dd-4e91-b252-e01c603cfaed\">\n",
              "    <div class=\"colab-df-container\">\n",
              "      <div>\n",
              "<style scoped>\n",
              "    .dataframe tbody tr th:only-of-type {\n",
              "        vertical-align: middle;\n",
              "    }\n",
              "\n",
              "    .dataframe tbody tr th {\n",
              "        vertical-align: top;\n",
              "    }\n",
              "\n",
              "    .dataframe thead th {\n",
              "        text-align: right;\n",
              "    }\n",
              "</style>\n",
              "<table border=\"1\" class=\"dataframe\">\n",
              "  <thead>\n",
              "    <tr style=\"text-align: right;\">\n",
              "      <th></th>\n",
              "      <th>id</th>\n",
              "      <th>name</th>\n",
              "      <th>host_id</th>\n",
              "      <th>host_name</th>\n",
              "      <th>neighbourhood_group</th>\n",
              "      <th>neighbourhood</th>\n",
              "      <th>latitude</th>\n",
              "      <th>longitude</th>\n",
              "      <th>room_type</th>\n",
              "      <th>price</th>\n",
              "      <th>minimum_nights</th>\n",
              "      <th>number_of_reviews</th>\n",
              "      <th>last_review</th>\n",
              "      <th>reviews_per_month</th>\n",
              "      <th>calculated_host_listings_count</th>\n",
              "      <th>availability_365</th>\n",
              "      <th>number_of_reviews_ltm</th>\n",
              "      <th>license</th>\n",
              "    </tr>\n",
              "  </thead>\n",
              "  <tbody>\n",
              "    <tr>\n",
              "      <th>0</th>\n",
              "      <td>10080</td>\n",
              "      <td>D1 -  Million Dollar View 2 BR</td>\n",
              "      <td>30899</td>\n",
              "      <td>Rami</td>\n",
              "      <td>NaN</td>\n",
              "      <td>Downtown</td>\n",
              "      <td>49.28872</td>\n",
              "      <td>-123.12046</td>\n",
              "      <td>Entire home/apt</td>\n",
              "      <td>158</td>\n",
              "      <td>90</td>\n",
              "      <td>16</td>\n",
              "      <td>2017-02-26</td>\n",
              "      <td>0.13</td>\n",
              "      <td>40</td>\n",
              "      <td>4</td>\n",
              "      <td>0</td>\n",
              "      <td>18-476608</td>\n",
              "    </tr>\n",
              "    <tr>\n",
              "      <th>1</th>\n",
              "      <td>13188</td>\n",
              "      <td>Garden level studio in ideal loc.</td>\n",
              "      <td>51466</td>\n",
              "      <td>Family Guns</td>\n",
              "      <td>NaN</td>\n",
              "      <td>Riley Park</td>\n",
              "      <td>49.24773</td>\n",
              "      <td>-123.10509</td>\n",
              "      <td>Entire home/apt</td>\n",
              "      <td>150</td>\n",
              "      <td>2</td>\n",
              "      <td>256</td>\n",
              "      <td>2022-01-01</td>\n",
              "      <td>1.77</td>\n",
              "      <td>1</td>\n",
              "      <td>180</td>\n",
              "      <td>9</td>\n",
              "      <td>22-156193</td>\n",
              "    </tr>\n",
              "    <tr>\n",
              "      <th>2</th>\n",
              "      <td>13358</td>\n",
              "      <td>Monthly (or Longer ) Designer One Bedroom Down...</td>\n",
              "      <td>52116</td>\n",
              "      <td>Lynn</td>\n",
              "      <td>NaN</td>\n",
              "      <td>West End</td>\n",
              "      <td>49.28201</td>\n",
              "      <td>-123.12669</td>\n",
              "      <td>Entire home/apt</td>\n",
              "      <td>85</td>\n",
              "      <td>30</td>\n",
              "      <td>432</td>\n",
              "      <td>2021-12-24</td>\n",
              "      <td>3.07</td>\n",
              "      <td>1</td>\n",
              "      <td>29</td>\n",
              "      <td>2</td>\n",
              "      <td>18-611603</td>\n",
              "    </tr>\n",
              "    <tr>\n",
              "      <th>3</th>\n",
              "      <td>13490</td>\n",
              "      <td>Vancouver's best kept secret</td>\n",
              "      <td>52467</td>\n",
              "      <td>Iris</td>\n",
              "      <td>NaN</td>\n",
              "      <td>Kensington-Cedar Cottage</td>\n",
              "      <td>49.25622</td>\n",
              "      <td>-123.06607</td>\n",
              "      <td>Entire home/apt</td>\n",
              "      <td>150</td>\n",
              "      <td>30</td>\n",
              "      <td>92</td>\n",
              "      <td>2021-12-14</td>\n",
              "      <td>0.71</td>\n",
              "      <td>1</td>\n",
              "      <td>251</td>\n",
              "      <td>4</td>\n",
              "      <td>NaN</td>\n",
              "    </tr>\n",
              "    <tr>\n",
              "      <th>4</th>\n",
              "      <td>14267</td>\n",
              "      <td>EcoLoft Vancouver</td>\n",
              "      <td>56030</td>\n",
              "      <td>Peter &amp; Alison</td>\n",
              "      <td>NaN</td>\n",
              "      <td>Kensington-Cedar Cottage</td>\n",
              "      <td>49.24922</td>\n",
              "      <td>-123.08139</td>\n",
              "      <td>Entire home/apt</td>\n",
              "      <td>150</td>\n",
              "      <td>3</td>\n",
              "      <td>34</td>\n",
              "      <td>2021-07-14</td>\n",
              "      <td>0.25</td>\n",
              "      <td>1</td>\n",
              "      <td>43</td>\n",
              "      <td>1</td>\n",
              "      <td>21-156500</td>\n",
              "    </tr>\n",
              "  </tbody>\n",
              "</table>\n",
              "</div>\n",
              "      <button class=\"colab-df-convert\" onclick=\"convertToInteractive('df-faa83eba-40dd-4e91-b252-e01c603cfaed')\"\n",
              "              title=\"Convert this dataframe to an interactive table.\"\n",
              "              style=\"display:none;\">\n",
              "        \n",
              "  <svg xmlns=\"http://www.w3.org/2000/svg\" height=\"24px\"viewBox=\"0 0 24 24\"\n",
              "       width=\"24px\">\n",
              "    <path d=\"M0 0h24v24H0V0z\" fill=\"none\"/>\n",
              "    <path d=\"M18.56 5.44l.94 2.06.94-2.06 2.06-.94-2.06-.94-.94-2.06-.94 2.06-2.06.94zm-11 1L8.5 8.5l.94-2.06 2.06-.94-2.06-.94L8.5 2.5l-.94 2.06-2.06.94zm10 10l.94 2.06.94-2.06 2.06-.94-2.06-.94-.94-2.06-.94 2.06-2.06.94z\"/><path d=\"M17.41 7.96l-1.37-1.37c-.4-.4-.92-.59-1.43-.59-.52 0-1.04.2-1.43.59L10.3 9.45l-7.72 7.72c-.78.78-.78 2.05 0 2.83L4 21.41c.39.39.9.59 1.41.59.51 0 1.02-.2 1.41-.59l7.78-7.78 2.81-2.81c.8-.78.8-2.07 0-2.86zM5.41 20L4 18.59l7.72-7.72 1.47 1.35L5.41 20z\"/>\n",
              "  </svg>\n",
              "      </button>\n",
              "      \n",
              "  <style>\n",
              "    .colab-df-container {\n",
              "      display:flex;\n",
              "      flex-wrap:wrap;\n",
              "      gap: 12px;\n",
              "    }\n",
              "\n",
              "    .colab-df-convert {\n",
              "      background-color: #E8F0FE;\n",
              "      border: none;\n",
              "      border-radius: 50%;\n",
              "      cursor: pointer;\n",
              "      display: none;\n",
              "      fill: #1967D2;\n",
              "      height: 32px;\n",
              "      padding: 0 0 0 0;\n",
              "      width: 32px;\n",
              "    }\n",
              "\n",
              "    .colab-df-convert:hover {\n",
              "      background-color: #E2EBFA;\n",
              "      box-shadow: 0px 1px 2px rgba(60, 64, 67, 0.3), 0px 1px 3px 1px rgba(60, 64, 67, 0.15);\n",
              "      fill: #174EA6;\n",
              "    }\n",
              "\n",
              "    [theme=dark] .colab-df-convert {\n",
              "      background-color: #3B4455;\n",
              "      fill: #D2E3FC;\n",
              "    }\n",
              "\n",
              "    [theme=dark] .colab-df-convert:hover {\n",
              "      background-color: #434B5C;\n",
              "      box-shadow: 0px 1px 3px 1px rgba(0, 0, 0, 0.15);\n",
              "      filter: drop-shadow(0px 1px 2px rgba(0, 0, 0, 0.3));\n",
              "      fill: #FFFFFF;\n",
              "    }\n",
              "  </style>\n",
              "\n",
              "      <script>\n",
              "        const buttonEl =\n",
              "          document.querySelector('#df-faa83eba-40dd-4e91-b252-e01c603cfaed button.colab-df-convert');\n",
              "        buttonEl.style.display =\n",
              "          google.colab.kernel.accessAllowed ? 'block' : 'none';\n",
              "\n",
              "        async function convertToInteractive(key) {\n",
              "          const element = document.querySelector('#df-faa83eba-40dd-4e91-b252-e01c603cfaed');\n",
              "          const dataTable =\n",
              "            await google.colab.kernel.invokeFunction('convertToInteractive',\n",
              "                                                     [key], {});\n",
              "          if (!dataTable) return;\n",
              "\n",
              "          const docLinkHtml = 'Like what you see? Visit the ' +\n",
              "            '<a target=\"_blank\" href=https://colab.research.google.com/notebooks/data_table.ipynb>data table notebook</a>'\n",
              "            + ' to learn more about interactive tables.';\n",
              "          element.innerHTML = '';\n",
              "          dataTable['output_type'] = 'display_data';\n",
              "          await google.colab.output.renderOutput(dataTable, element);\n",
              "          const docLink = document.createElement('div');\n",
              "          docLink.innerHTML = docLinkHtml;\n",
              "          element.appendChild(docLink);\n",
              "        }\n",
              "      </script>\n",
              "    </div>\n",
              "  </div>\n",
              "  "
            ]
          },
          "metadata": {},
          "execution_count": 4
        }
      ]
    },
    {
      "cell_type": "markdown",
      "source": [
        "#### Q1. How many variables (columns) and how many entries (rows) does our file have?\n",
        "\n",
        "Let's go ahead and identify how many entries our dataset has and see the types of each column.\n",
        "\n",
        "This dataset we downloaded is the \"abridged\" version of Airbnb. On the same page we downloaded the listings.csv file, there is a more complete version with more entries and more variables (listings.csv.gz)."
      ],
      "metadata": {
        "id": "kDQJ7EZVAeLE"
      }
    },
    {
      "cell_type": "code",
      "source": [
        "#identify the DataFrame data shape\n",
        "print('Rows: \\t {}'.format(df.shape[0]))\n",
        "print('Columns:\\t {}\\n'.format(df.shape[1]))\n",
        "\n",
        "display(df.dtypes)"
      ],
      "metadata": {
        "colab": {
          "base_uri": "https://localhost:8080/",
          "height": 399
        },
        "id": "dfqvcSaAAcyw",
        "outputId": "09ffe7a9-f0f7-443c-9ebd-75c6f8a9a13e"
      },
      "execution_count": null,
      "outputs": [
        {
          "output_type": "stream",
          "name": "stdout",
          "text": [
            "Rows: \t 4546\n",
            "Columns:\t 18\n",
            "\n"
          ]
        },
        {
          "output_type": "display_data",
          "data": {
            "text/plain": [
              "id                                  int64\n",
              "name                               object\n",
              "host_id                             int64\n",
              "host_name                          object\n",
              "neighbourhood_group               float64\n",
              "neighbourhood                      object\n",
              "latitude                          float64\n",
              "longitude                         float64\n",
              "room_type                          object\n",
              "price                               int64\n",
              "minimum_nights                      int64\n",
              "number_of_reviews                   int64\n",
              "last_review                        object\n",
              "reviews_per_month                 float64\n",
              "calculated_host_listings_count      int64\n",
              "availability_365                    int64\n",
              "number_of_reviews_ltm               int64\n",
              "license                            object\n",
              "dtype: object"
            ]
          },
          "metadata": {}
        }
      ]
    },
    {
      "cell_type": "markdown",
      "source": [
        "#### Q2. What is the percentage of missing values in the dataset?\n",
        "\n",
        "The quality of a dataset is related to the amount of missing values. It is important to understand early on whether these null values are significant compared to the total entries.\n",
        "\n",
        "* The variables `neighbourhood_group`, `\"license\"`, `reviews_per_month`, \"last_review\" and `host_name`, are the only variables that have missing values.\n",
        "* You can see that the `neighborhood_group` column has 100% of its values missing.\n",
        "* The `host_name` variable has less than 1% of its values missing."
      ],
      "metadata": {
        "id": "amGGv4PIBdQB"
      }
    },
    {
      "cell_type": "code",
      "source": [
        "# sort variables in descending order by their missing values\n",
        "(df.isnull().sum() / df.shape[0] * 100).sort_values(ascending=False)"
      ],
      "metadata": {
        "colab": {
          "base_uri": "https://localhost:8080/"
        },
        "id": "AxxEVz0hGuqW",
        "outputId": "39f24f67-3803-43b9-f03e-99d5dedb8c0e"
      },
      "execution_count": null,
      "outputs": [
        {
          "output_type": "execute_result",
          "data": {
            "text/plain": [
              "neighbourhood_group               100.000000\n",
              "license                            29.630444\n",
              "reviews_per_month                  15.992081\n",
              "last_review                        15.992081\n",
              "host_name                           0.153982\n",
              "minimum_nights                      0.000000\n",
              "number_of_reviews_ltm               0.000000\n",
              "availability_365                    0.000000\n",
              "calculated_host_listings_count      0.000000\n",
              "number_of_reviews                   0.000000\n",
              "id                                  0.000000\n",
              "name                                0.000000\n",
              "room_type                           0.000000\n",
              "longitude                           0.000000\n",
              "latitude                            0.000000\n",
              "neighbourhood                       0.000000\n",
              "host_id                             0.000000\n",
              "price                               0.000000\n",
              "dtype: float64"
            ]
          },
          "metadata": {},
          "execution_count": 6
        }
      ]
    },
    {
      "cell_type": "code",
      "source": [
        ""
      ],
      "metadata": {
        "id": "ENPEXdiduV-y"
      },
      "execution_count": null,
      "outputs": []
    },
    {
      "cell_type": "markdown",
      "source": [
        "#### Q3. What is the type of distribution of the variables?\n",
        "To identify the distribution of variables, I will plot the histogram"
      ],
      "metadata": {
        "id": "CNHHChJ5SUnK"
      }
    },
    {
      "cell_type": "code",
      "source": [
        "# plot the histogram of numeric variables\n",
        "df.hist(bins=13, figsize=(15,10));"
      ],
      "metadata": {
        "colab": {
          "base_uri": "https://localhost:8080/",
          "height": 607
        },
        "id": "Sk8nhGobSmLi",
        "outputId": "96331e82-c1be-4cf7-a866-f139057f8013"
      },
      "execution_count": null,
      "outputs": [
        {
          "output_type": "display_data",
          "data": {
            "text/plain": [
              "<Figure size 1080x720 with 12 Axes>"
            ],
            "image/png": "[encoded data removed]"
          },
          "metadata": {
            "needs_background": "light"
          }
        }
      ]
    },
    {
      "cell_type": "markdown",
      "source": [
        "#### Q4. Are there outliers present?\n",
        "\n",
        "By the distribution of the histogram, it is possible to verify evidence of the presence of outliers. Take for example the variables `price`, `minimum_nights` and `calculated_host_listings_count`.\n",
        "\n",
        "The values do not follow a distribution, and they distort the entire graphical representation. To confirm, there are two quick ways that help detect outliers. They are:\n",
        "\n",
        "Statistical summary through the method `describe()`\n",
        "\n",
        "Plot `boxplots` for the variable."
      ],
      "metadata": {
        "id": "TI6DFjdmKkW9"
      }
    },
    {
      "cell_type": "code",
      "source": [
        "# See the statistical summary of numerical variables\n",
        "df[['price', 'minimum_nights', 'number_of_reviews', 'reviews_per_month',\n",
        "    'calculated_host_listings_count', 'availability_365']].describe()"
      ],
      "metadata": {
        "colab": {
          "base_uri": "https://localhost:8080/",
          "height": 300
        },
        "id": "m9zMluPJL5-C",
        "outputId": "0e1714a5-476f-4211-ecd3-dfcae97f616d"
      },
      "execution_count": null,
      "outputs": [
        {
          "output_type": "execute_result",
          "data": {
            "text/plain": [
              "             price  minimum_nights  number_of_reviews  reviews_per_month  \\\n",
              "count  4546.000000     4546.000000        4546.000000        3819.000000   \n",
              "mean    176.265728       18.203256          36.154201           1.376942   \n",
              "std     289.505120       33.030600          62.737417           1.525082   \n",
              "min      13.000000        1.000000           0.000000           0.010000   \n",
              "25%      91.000000        2.000000           2.000000           0.270000   \n",
              "50%     126.000000        4.000000          10.000000           0.830000   \n",
              "75%     193.000000       30.000000          42.000000           2.000000   \n",
              "max    9999.000000      399.000000         728.000000          23.000000   \n",
              "\n",
              "       calculated_host_listings_count  availability_365  \n",
              "count                     4546.000000       4546.000000  \n",
              "mean                         5.458425        130.283766  \n",
              "std                         12.496729        122.313264  \n",
              "min                          1.000000          0.000000  \n",
              "25%                          1.000000          7.000000  \n",
              "50%                          1.000000         90.000000  \n",
              "75%                          3.000000        226.000000  \n",
              "max                         79.000000        365.000000  "
            ],
            "text/html": [
              "\n",
              "  <div id=\"df-4efb6136-d715-472b-9231-a7b0ea388b63\">\n",
              "    <div class=\"colab-df-container\">\n",
              "      <div>\n",
              "<style scoped>\n",
              "    .dataframe tbody tr th:only-of-type {\n",
              "        vertical-align: middle;\n",
              "    }\n",
              "\n",
              "    .dataframe tbody tr th {\n",
              "        vertical-align: top;\n",
              "    }\n",
              "\n",
              "    .dataframe thead th {\n",
              "        text-align: right;\n",
              "    }\n",
              "</style>\n",
              "<table border=\"1\" class=\"dataframe\">\n",
              "  <thead>\n",
              "    <tr style=\"text-align: right;\">\n",
              "      <th></th>\n",
              "      <th>price</th>\n",
              "      <th>minimum_nights</th>\n",
              "      <th>number_of_reviews</th>\n",
              "      <th>reviews_per_month</th>\n",
              "      <th>calculated_host_listings_count</th>\n",
              "      <th>availability_365</th>\n",
              "    </tr>\n",
              "  </thead>\n",
              "  <tbody>\n",
              "    <tr>\n",
              "      <th>count</th>\n",
              "      <td>4546.000000</td>\n",
              "      <td>4546.000000</td>\n",
              "      <td>4546.000000</td>\n",
              "      <td>3819.000000</td>\n",
              "      <td>4546.000000</td>\n",
              "      <td>4546.000000</td>\n",
              "    </tr>\n",
              "    <tr>\n",
              "      <th>mean</th>\n",
              "      <td>176.265728</td>\n",
              "      <td>18.203256</td>\n",
              "      <td>36.154201</td>\n",
              "      <td>1.376942</td>\n",
              "      <td>5.458425</td>\n",
              "      <td>130.283766</td>\n",
              "    </tr>\n",
              "    <tr>\n",
              "      <th>std</th>\n",
              "      <td>289.505120</td>\n",
              "      <td>33.030600</td>\n",
              "      <td>62.737417</td>\n",
              "      <td>1.525082</td>\n",
              "      <td>12.496729</td>\n",
              "      <td>122.313264</td>\n",
              "    </tr>\n",
              "    <tr>\n",
              "      <th>min</th>\n",
              "      <td>13.000000</td>\n",
              "      <td>1.000000</td>\n",
              "      <td>0.000000</td>\n",
              "      <td>0.010000</td>\n",
              "      <td>1.000000</td>\n",
              "      <td>0.000000</td>\n",
              "    </tr>\n",
              "    <tr>\n",
              "      <th>25%</th>\n",
              "      <td>91.000000</td>\n",
              "      <td>2.000000</td>\n",
              "      <td>2.000000</td>\n",
              "      <td>0.270000</td>\n",
              "      <td>1.000000</td>\n",
              "      <td>7.000000</td>\n",
              "    </tr>\n",
              "    <tr>\n",
              "      <th>50%</th>\n",
              "      <td>126.000000</td>\n",
              "      <td>4.000000</td>\n",
              "      <td>10.000000</td>\n",
              "      <td>0.830000</td>\n",
              "      <td>1.000000</td>\n",
              "      <td>90.000000</td>\n",
              "    </tr>\n",
              "    <tr>\n",
              "      <th>75%</th>\n",
              "      <td>193.000000</td>\n",
              "      <td>30.000000</td>\n",
              "      <td>42.000000</td>\n",
              "      <td>2.000000</td>\n",
              "      <td>3.000000</td>\n",
              "      <td>226.000000</td>\n",
              "    </tr>\n",
              "    <tr>\n",
              "      <th>max</th>\n",
              "      <td>9999.000000</td>\n",
              "      <td>399.000000</td>\n",
              "      <td>728.000000</td>\n",
              "      <td>23.000000</td>\n",
              "      <td>79.000000</td>\n",
              "      <td>365.000000</td>\n",
              "    </tr>\n",
              "  </tbody>\n",
              "</table>\n",
              "</div>\n",
              "      <button class=\"colab-df-convert\" onclick=\"convertToInteractive('df-4efb6136-d715-472b-9231-a7b0ea388b63')\"\n",
              "              title=\"Convert this dataframe to an interactive table.\"\n",
              "              style=\"display:none;\">\n",
              "        \n",
              "  <svg xmlns=\"http://www.w3.org/2000/svg\" height=\"24px\"viewBox=\"0 0 24 24\"\n",
              "       width=\"24px\">\n",
              "    <path d=\"M0 0h24v24H0V0z\" fill=\"none\"/>\n",
              "    <path d=\"M18.56 5.44l.94 2.06.94-2.06 2.06-.94-2.06-.94-.94-2.06-.94 2.06-2.06.94zm-11 1L8.5 8.5l.94-2.06 2.06-.94-2.06-.94L8.5 2.5l-.94 2.06-2.06.94zm10 10l.94 2.06.94-2.06 2.06-.94-2.06-.94-.94-2.06-.94 2.06-2.06.94z\"/><path d=\"M17.41 7.96l-1.37-1.37c-.4-.4-.92-.59-1.43-.59-.52 0-1.04.2-1.43.59L10.3 9.45l-7.72 7.72c-.78.78-.78 2.05 0 2.83L4 21.41c.39.39.9.59 1.41.59.51 0 1.02-.2 1.41-.59l7.78-7.78 2.81-2.81c.8-.78.8-2.07 0-2.86zM5.41 20L4 18.59l7.72-7.72 1.47 1.35L5.41 20z\"/>\n",
              "  </svg>\n",
              "      </button>\n",
              "      \n",
              "  <style>\n",
              "    .colab-df-container {\n",
              "      display:flex;\n",
              "      flex-wrap:wrap;\n",
              "      gap: 12px;\n",
              "    }\n",
              "\n",
              "    .colab-df-convert {\n",
              "      background-color: #E8F0FE;\n",
              "      border: none;\n",
              "      border-radius: 50%;\n",
              "      cursor: pointer;\n",
              "      display: none;\n",
              "      fill: #1967D2;\n",
              "      height: 32px;\n",
              "      padding: 0 0 0 0;\n",
              "      width: 32px;\n",
              "    }\n",
              "\n",
              "    .colab-df-convert:hover {\n",
              "      background-color: #E2EBFA;\n",
              "      box-shadow: 0px 1px 2px rgba(60, 64, 67, 0.3), 0px 1px 3px 1px rgba(60, 64, 67, 0.15);\n",
              "      fill: #174EA6;\n",
              "    }\n",
              "\n",
              "    [theme=dark] .colab-df-convert {\n",
              "      background-color: #3B4455;\n",
              "      fill: #D2E3FC;\n",
              "    }\n",
              "\n",
              "    [theme=dark] .colab-df-convert:hover {\n",
              "      background-color: #434B5C;\n",
              "      box-shadow: 0px 1px 3px 1px rgba(0, 0, 0, 0.15);\n",
              "      filter: drop-shadow(0px 1px 2px rgba(0, 0, 0, 0.3));\n",
              "      fill: #FFFFFF;\n",
              "    }\n",
              "  </style>\n",
              "\n",
              "      <script>\n",
              "        const buttonEl =\n",
              "          document.querySelector('#df-4efb6136-d715-472b-9231-a7b0ea388b63 button.colab-df-convert');\n",
              "        buttonEl.style.display =\n",
              "          google.colab.kernel.accessAllowed ? 'block' : 'none';\n",
              "\n",
              "        async function convertToInteractive(key) {\n",
              "          const element = document.querySelector('#df-4efb6136-d715-472b-9231-a7b0ea388b63');\n",
              "          const dataTable =\n",
              "            await google.colab.kernel.invokeFunction('convertToInteractive',\n",
              "                                                     [key], {});\n",
              "          if (!dataTable) return;\n",
              "\n",
              "          const docLinkHtml = 'Like what you see? Visit the ' +\n",
              "            '<a target=\"_blank\" href=https://colab.research.google.com/notebooks/data_table.ipynb>data table notebook</a>'\n",
              "            + ' to learn more about interactive tables.';\n",
              "          element.innerHTML = '';\n",
              "          dataTable['output_type'] = 'display_data';\n",
              "          await google.colab.output.renderOutput(dataTable, element);\n",
              "          const docLink = document.createElement('div');\n",
              "          docLink.innerHTML = docLinkHtml;\n",
              "          element.appendChild(docLink);\n",
              "        }\n",
              "      </script>\n",
              "    </div>\n",
              "  </div>\n",
              "  "
            ]
          },
          "metadata": {},
          "execution_count": 8
        }
      ]
    },
    {
      "cell_type": "markdown",
      "source": [
        "Looking at the statistical summary above, we can confirm some hypotheses such as:\n",
        "\n",
        "* The variable (price) has 75% of the value below 193, but its maximum value is 4546.\n",
        "* The minimum number of nights (minimum_nights) is above 365 days in the year."
      ],
      "metadata": {
        "id": "QgELdRQ-Mo9D"
      }
    },
    {
      "cell_type": "markdown",
      "source": [
        "**Boxplot for `minimum_nights`**"
      ],
      "metadata": {
        "id": "XzgdtAptM087"
      }
    },
    {
      "cell_type": "code",
      "source": [
        "# minimum_nights\n",
        "df.minimum_nights.plot(kind='box', vert=False, figsize=(15,3));\n",
        "\n",
        "# see amount of values over 30 days to 'minimum_nights'\n",
        "print('minimum_nights:valores acima de 30:')\n",
        "print('{} entradas'.format((len(df[df.minimum_nights > 30]))))\n",
        "print('{:.4f}%'.format ((len(df[df.minimum_nights > 30]) / df.shape[0]) *100))"
      ],
      "metadata": {
        "colab": {
          "base_uri": "https://localhost:8080/",
          "height": 263
        },
        "id": "QDIl3qtlNQWJ",
        "outputId": "ec74a455-6768-4b95-9c05-874d340e912b"
      },
      "execution_count": null,
      "outputs": [
        {
          "output_type": "stream",
          "name": "stdout",
          "text": [
            "minimum_nights:valores acima de 30:\n",
            "333 entradas\n",
            "7.3251%\n"
          ]
        },
        {
          "output_type": "display_data",
          "data": {
            "text/plain": [
              "<Figure size 1080x216 with 1 Axes>"
            ],
            "image/png": "[encoded data removed]"
          },
          "metadata": {
            "needs_background": "light"
          }
        }
      ]
    },
    {
      "cell_type": "markdown",
      "source": [
        "**Boxplot for `price`**"
      ],
      "metadata": {
        "id": "kdnODaxYDgzB"
      }
    },
    {
      "cell_type": "code",
      "source": [
        "# price \n",
        "df.price.plot(kind='box', vert=False, xlim=(0, 1300), figsize=(15, 3),)\n",
        "plt.show()\n",
        "\n",
        "# See amount of values above 1500 for price\n",
        "print('\\n price: valores acima de 1500')\n",
        "print('{} entradas'.format(len(df[df.price > 1500])))\n",
        "print('{:.4f}%'. format((len(df[df.price > 1500]) / df.shape[0]) *100))\n",
        "\n",
        "#df.price.plot(kind='box', vert=False, xlim=(0,1300), figsize=(15,3));"
      ],
      "metadata": {
        "colab": {
          "base_uri": "https://localhost:8080/",
          "height": 280
        },
        "id": "zrR2cmrJVIei",
        "outputId": "737b4c54-bd70-4ed8-a3b5-e97b566cb9e4"
      },
      "execution_count": null,
      "outputs": [
        {
          "output_type": "display_data",
          "data": {
            "text/plain": [
              "<Figure size 1080x216 with 1 Axes>"
            ],
            "image/png": "[encoded data removed]"
          },
          "metadata": {
            "needs_background": "light"
          }
        },
        {
          "output_type": "stream",
          "name": "stdout",
          "text": [
            "\n",
            " price: valores acima de 1500\n",
            "17 entradas\n",
            "0.3740%\n"
          ]
        }
      ]
    },
    {
      "cell_type": "markdown",
      "source": [
        "#### Histograma without outlier \n",
        "\n",
        "As we have already identified outliers in the `price` and `minimum_nights` variables, let's now clear the DataFrame of them and re-plot the histogram."
      ],
      "metadata": {
        "id": "VzbT7UxXi8Jp"
      }
    },
    {
      "cell_type": "code",
      "source": [
        "# Remove the 'outliers' on a new dataframe \n",
        "# Using the code 'copy()', any modification in the new list won’t be reflected in the original list\n",
        "df_clean = df.copy()\n",
        "df_clean.drop(df_clean[df_clean.price > 380]. index, axis=0, inplace=True)\n",
        "df_clean.drop(df_clean[df_clean.minimum_nights > 30].index, axis=0, inplace=True)\n",
        "\n",
        "# Remove 'neighborhood_group' it's empty\n",
        "df_clean.drop('neighbourhood_group', axis=1, inplace=True)\n",
        "\n",
        "# Plot the histogram for numeric variables\n",
        "df_clean.hist(bins=15, figsize=(10, 15));\n"
      ],
      "metadata": {
        "colab": {
          "base_uri": "https://localhost:8080/",
          "height": 879
        },
        "id": "KJF5uL-jjhpi",
        "outputId": "46c58fc7-f038-4501-8175-b4e97d04501a"
      },
      "execution_count": null,
      "outputs": [
        {
          "output_type": "display_data",
          "data": {
            "text/plain": [
              "<Figure size 720x1080 with 12 Axes>"
            ],
            "image/png": "[encoded data removed]"
          },
          "metadata": {
            "needs_background": "light"
          }
        }
      ]
    },
    {
      "cell_type": "markdown",
      "source": [
        "#### **Q4. What is the correlation between the variables?**\n",
        "\n",
        "Correlation means that there is a relationship between two things. In our context, we are looking for a relationship or similarity between two variables.\n",
        "\n",
        "This relationship can be measured, and it is the function of the correlation coefficient to establish the strength of this relationship. To identify the correlations between the variables of interest, let's:\n",
        "\n",
        "* Create a correlation matrix\n",
        "* Generate a heatmap from this array, using the seaborn library\n",
        "\n"
      ],
      "metadata": {
        "id": "eAOOEU0ppy1e"
      }
    },
    {
      "cell_type": "code",
      "source": [
        "# Create a correlation matrix \n",
        "correlation = df_clean[['price', 'minimum_nights', 'number_of_reviews', 'reviews_per_month',\n",
        "    'calculated_host_listings_count', 'availability_365']].corr()\n",
        "\n",
        "display(correlation)"
      ],
      "metadata": {
        "colab": {
          "base_uri": "https://localhost:8080/",
          "height": 238
        },
        "id": "gbNQ5I_kqUOG",
        "outputId": "5c370bed-02d0-4a21-e657-9db9a31fdfba"
      },
      "execution_count": null,
      "outputs": [
        {
          "output_type": "display_data",
          "data": {
            "text/plain": [
              "                                   price  minimum_nights  number_of_reviews  \\\n",
              "price                           1.000000       -0.114520          -0.062796   \n",
              "minimum_nights                 -0.114520        1.000000          -0.234262   \n",
              "number_of_reviews              -0.062796       -0.234262           1.000000   \n",
              "reviews_per_month              -0.007235       -0.389572           0.571929   \n",
              "calculated_host_listings_count -0.061841        0.308904          -0.164966   \n",
              "availability_365                0.140689        0.183891           0.028416   \n",
              "\n",
              "                                reviews_per_month  \\\n",
              "price                                   -0.007235   \n",
              "minimum_nights                          -0.389572   \n",
              "number_of_reviews                        0.571929   \n",
              "reviews_per_month                        1.000000   \n",
              "calculated_host_listings_count          -0.169429   \n",
              "availability_365                         0.058348   \n",
              "\n",
              "                                calculated_host_listings_count  \\\n",
              "price                                                -0.061841   \n",
              "minimum_nights                                        0.308904   \n",
              "number_of_reviews                                    -0.164966   \n",
              "reviews_per_month                                    -0.169429   \n",
              "calculated_host_listings_count                        1.000000   \n",
              "availability_365                                      0.031274   \n",
              "\n",
              "                                availability_365  \n",
              "price                                   0.140689  \n",
              "minimum_nights                          0.183891  \n",
              "number_of_reviews                       0.028416  \n",
              "reviews_per_month                       0.058348  \n",
              "calculated_host_listings_count          0.031274  \n",
              "availability_365                        1.000000  "
            ],
            "text/html": [
              "\n",
              "  <div id=\"df-6e6ab4c1-32e6-42ad-b660-0a41260288ae\">\n",
              "    <div class=\"colab-df-container\">\n",
              "      <div>\n",
              "<style scoped>\n",
              "    .dataframe tbody tr th:only-of-type {\n",
              "        vertical-align: middle;\n",
              "    }\n",
              "\n",
              "    .dataframe tbody tr th {\n",
              "        vertical-align: top;\n",
              "    }\n",
              "\n",
              "    .dataframe thead th {\n",
              "        text-align: right;\n",
              "    }\n",
              "</style>\n",
              "<table border=\"1\" class=\"dataframe\">\n",
              "  <thead>\n",
              "    <tr style=\"text-align: right;\">\n",
              "      <th></th>\n",
              "      <th>price</th>\n",
              "      <th>minimum_nights</th>\n",
              "      <th>number_of_reviews</th>\n",
              "      <th>reviews_per_month</th>\n",
              "      <th>calculated_host_listings_count</th>\n",
              "      <th>availability_365</th>\n",
              "    </tr>\n",
              "  </thead>\n",
              "  <tbody>\n",
              "    <tr>\n",
              "      <th>price</th>\n",
              "      <td>1.000000</td>\n",
              "      <td>-0.114520</td>\n",
              "      <td>-0.062796</td>\n",
              "      <td>-0.007235</td>\n",
              "      <td>-0.061841</td>\n",
              "      <td>0.140689</td>\n",
              "    </tr>\n",
              "    <tr>\n",
              "      <th>minimum_nights</th>\n",
              "      <td>-0.114520</td>\n",
              "      <td>1.000000</td>\n",
              "      <td>-0.234262</td>\n",
              "      <td>-0.389572</td>\n",
              "      <td>0.308904</td>\n",
              "      <td>0.183891</td>\n",
              "    </tr>\n",
              "    <tr>\n",
              "      <th>number_of_reviews</th>\n",
              "      <td>-0.062796</td>\n",
              "      <td>-0.234262</td>\n",
              "      <td>1.000000</td>\n",
              "      <td>0.571929</td>\n",
              "      <td>-0.164966</td>\n",
              "      <td>0.028416</td>\n",
              "    </tr>\n",
              "    <tr>\n",
              "      <th>reviews_per_month</th>\n",
              "      <td>-0.007235</td>\n",
              "      <td>-0.389572</td>\n",
              "      <td>0.571929</td>\n",
              "      <td>1.000000</td>\n",
              "      <td>-0.169429</td>\n",
              "      <td>0.058348</td>\n",
              "    </tr>\n",
              "    <tr>\n",
              "      <th>calculated_host_listings_count</th>\n",
              "      <td>-0.061841</td>\n",
              "      <td>0.308904</td>\n",
              "      <td>-0.164966</td>\n",
              "      <td>-0.169429</td>\n",
              "      <td>1.000000</td>\n",
              "      <td>0.031274</td>\n",
              "    </tr>\n",
              "    <tr>\n",
              "      <th>availability_365</th>\n",
              "      <td>0.140689</td>\n",
              "      <td>0.183891</td>\n",
              "      <td>0.028416</td>\n",
              "      <td>0.058348</td>\n",
              "      <td>0.031274</td>\n",
              "      <td>1.000000</td>\n",
              "    </tr>\n",
              "  </tbody>\n",
              "</table>\n",
              "</div>\n",
              "      <button class=\"colab-df-convert\" onclick=\"convertToInteractive('df-6e6ab4c1-32e6-42ad-b660-0a41260288ae')\"\n",
              "              title=\"Convert this dataframe to an interactive table.\"\n",
              "              style=\"display:none;\">\n",
              "        \n",
              "  <svg xmlns=\"http://www.w3.org/2000/svg\" height=\"24px\"viewBox=\"0 0 24 24\"\n",
              "       width=\"24px\">\n",
              "    <path d=\"M0 0h24v24H0V0z\" fill=\"none\"/>\n",
              "    <path d=\"M18.56 5.44l.94 2.06.94-2.06 2.06-.94-2.06-.94-.94-2.06-.94 2.06-2.06.94zm-11 1L8.5 8.5l.94-2.06 2.06-.94-2.06-.94L8.5 2.5l-.94 2.06-2.06.94zm10 10l.94 2.06.94-2.06 2.06-.94-2.06-.94-.94-2.06-.94 2.06-2.06.94z\"/><path d=\"M17.41 7.96l-1.37-1.37c-.4-.4-.92-.59-1.43-.59-.52 0-1.04.2-1.43.59L10.3 9.45l-7.72 7.72c-.78.78-.78 2.05 0 2.83L4 21.41c.39.39.9.59 1.41.59.51 0 1.02-.2 1.41-.59l7.78-7.78 2.81-2.81c.8-.78.8-2.07 0-2.86zM5.41 20L4 18.59l7.72-7.72 1.47 1.35L5.41 20z\"/>\n",
              "  </svg>\n",
              "      </button>\n",
              "      \n",
              "  <style>\n",
              "    .colab-df-container {\n",
              "      display:flex;\n",
              "      flex-wrap:wrap;\n",
              "      gap: 12px;\n",
              "    }\n",
              "\n",
              "    .colab-df-convert {\n",
              "      background-color: #E8F0FE;\n",
              "      border: none;\n",
              "      border-radius: 50%;\n",
              "      cursor: pointer;\n",
              "      display: none;\n",
              "      fill: #1967D2;\n",
              "      height: 32px;\n",
              "      padding: 0 0 0 0;\n",
              "      width: 32px;\n",
              "    }\n",
              "\n",
              "    .colab-df-convert:hover {\n",
              "      background-color: #E2EBFA;\n",
              "      box-shadow: 0px 1px 2px rgba(60, 64, 67, 0.3), 0px 1px 3px 1px rgba(60, 64, 67, 0.15);\n",
              "      fill: #174EA6;\n",
              "    }\n",
              "\n",
              "    [theme=dark] .colab-df-convert {\n",
              "      background-color: #3B4455;\n",
              "      fill: #D2E3FC;\n",
              "    }\n",
              "\n",
              "    [theme=dark] .colab-df-convert:hover {\n",
              "      background-color: #434B5C;\n",
              "      box-shadow: 0px 1px 3px 1px rgba(0, 0, 0, 0.15);\n",
              "      filter: drop-shadow(0px 1px 2px rgba(0, 0, 0, 0.3));\n",
              "      fill: #FFFFFF;\n",
              "    }\n",
              "  </style>\n",
              "\n",
              "      <script>\n",
              "        const buttonEl =\n",
              "          document.querySelector('#df-6e6ab4c1-32e6-42ad-b660-0a41260288ae button.colab-df-convert');\n",
              "        buttonEl.style.display =\n",
              "          google.colab.kernel.accessAllowed ? 'block' : 'none';\n",
              "\n",
              "        async function convertToInteractive(key) {\n",
              "          const element = document.querySelector('#df-6e6ab4c1-32e6-42ad-b660-0a41260288ae');\n",
              "          const dataTable =\n",
              "            await google.colab.kernel.invokeFunction('convertToInteractive',\n",
              "                                                     [key], {});\n",
              "          if (!dataTable) return;\n",
              "\n",
              "          const docLinkHtml = 'Like what you see? Visit the ' +\n",
              "            '<a target=\"_blank\" href=https://colab.research.google.com/notebooks/data_table.ipynb>data table notebook</a>'\n",
              "            + ' to learn more about interactive tables.';\n",
              "          element.innerHTML = '';\n",
              "          dataTable['output_type'] = 'display_data';\n",
              "          await google.colab.output.renderOutput(dataTable, element);\n",
              "          const docLink = document.createElement('div');\n",
              "          docLink.innerHTML = docLinkHtml;\n",
              "          element.appendChild(docLink);\n",
              "        }\n",
              "      </script>\n",
              "    </div>\n",
              "  </div>\n",
              "  "
            ]
          },
          "metadata": {}
        }
      ]
    },
    {
      "cell_type": "code",
      "source": [
        "sns.heatmap(correlation, cmap='Blues', fmt='.2f', square=True, linecolor='white', annot=True);"
      ],
      "metadata": {
        "id": "K2NpBN9N1eNL",
        "colab": {
          "base_uri": "https://localhost:8080/",
          "height": 411
        },
        "outputId": "983843af-5ffb-4ea2-cb3d-d4829dd57c15"
      },
      "execution_count": null,
      "outputs": [
        {
          "output_type": "display_data",
          "data": {
            "text/plain": [
              "<Figure size 432x288 with 2 Axes>"
            ],
            "image/png": "[encoded data removed]"
          },
          "metadata": {
            "needs_background": "light"
          }
        }
      ]
    },
    {
      "cell_type": "markdown",
      "source": [
        "#### **Q5. What is the most rented property type in Airbnb?**\n",
        "\n",
        "The room_type variable column indicates the type of rental that is advertised on Airbnb. If you have already rented on the site, you know that there are options for apartments/whole houses, just renting a room or even sharing a room with other people.\n",
        "\n",
        "Let's count the number of occurrences of each rental type, using the `value_counts()` method."
      ],
      "metadata": {
        "id": "0Y3eg8BY1ebb"
      }
    },
    {
      "cell_type": "code",
      "source": [
        "# Show the amount of each property type availble\n",
        "df_clean.room_type.value_counts()"
      ],
      "metadata": {
        "colab": {
          "base_uri": "https://localhost:8080/"
        },
        "id": "mEqJKNo_1uO9",
        "outputId": "7a949c24-964b-4a89-c57a-7a32b79d6fa9"
      },
      "execution_count": null,
      "outputs": [
        {
          "output_type": "execute_result",
          "data": {
            "text/plain": [
              "Entire home/apt    3184\n",
              "Private room        771\n",
              "Shared room           8\n",
              "Hotel room            5\n",
              "Name: room_type, dtype: int64"
            ]
          },
          "metadata": {},
          "execution_count": 14
        }
      ]
    },
    {
      "cell_type": "code",
      "source": [
        "# Show the percentage of each property type available\n",
        "df_clean.room_type.value_counts() / df_clean.shape[0]"
      ],
      "metadata": {
        "colab": {
          "base_uri": "https://localhost:8080/"
        },
        "id": "lX9I0u7c20Tw",
        "outputId": "e7c4759a-76f6-4f31-f841-decf4179125d"
      },
      "execution_count": null,
      "outputs": [
        {
          "output_type": "execute_result",
          "data": {
            "text/plain": [
              "Entire home/apt    0.802419\n",
              "Private room       0.194304\n",
              "Shared room        0.002016\n",
              "Hotel room         0.001260\n",
              "Name: room_type, dtype: float64"
            ]
          },
          "metadata": {},
          "execution_count": 15
        }
      ]
    },
    {
      "cell_type": "markdown",
      "source": [
        "#### **Q6. What is the most expensive location in vancouver**\n",
        "\n",
        "One way to check one variable against another is to use `groupby()`. In this case, we want to compare the *neighborhoods* based on the rental price.\n"
      ],
      "metadata": {
        "id": "7M3SgHiy35na"
      }
    },
    {
      "cell_type": "code",
      "source": [
        "df_clean.groupby(['neighbourhood']).price.mean().sort_values(ascending=False)[:10]"
      ],
      "metadata": {
        "colab": {
          "base_uri": "https://localhost:8080/"
        },
        "id": "93z8C-nq4fyP",
        "outputId": "cf5b4b5f-51eb-4f40-fb0e-15b19e009ca0"
      },
      "execution_count": null,
      "outputs": [
        {
          "output_type": "execute_result",
          "data": {
            "text/plain": [
              "neighbourhood\n",
              "West Point Grey       163.957447\n",
              "Kitsilano             163.403509\n",
              "Downtown Eastside     162.712871\n",
              "Strathcona            161.071429\n",
              "Downtown              160.696940\n",
              "Fairview              142.577586\n",
              "Mount Pleasant        141.923387\n",
              "Dunbar Southlands     141.666667\n",
              "West End              140.030151\n",
              "Grandview-Woodland    135.446701\n",
              "Name: price, dtype: float64"
            ]
          },
          "metadata": {},
          "execution_count": 16
        }
      ]
    },
    {
      "cell_type": "code",
      "source": [
        "# See the amount of properties in downtown\n",
        "df_clean[df_clean.neighbourhood == 'Downtown'].shape"
      ],
      "metadata": {
        "colab": {
          "base_uri": "https://localhost:8080/"
        },
        "id": "Np-iMVqf6VNf",
        "outputId": "5d23bb20-62a4-406b-f2db-dcefea12796b"
      },
      "execution_count": null,
      "outputs": [
        {
          "output_type": "execute_result",
          "data": {
            "text/plain": [
              "(1013, 17)"
            ]
          },
          "metadata": {},
          "execution_count": 17
        }
      ]
    },
    {
      "cell_type": "code",
      "source": [
        "df_clean[df_clean.neighbourhood == 'Downtown']"
      ],
      "metadata": {
        "colab": {
          "base_uri": "https://localhost:8080/",
          "height": 731
        },
        "id": "BYjh40d-60Kb",
        "outputId": "6078221f-6b51-4de5-c78a-ce6308836218"
      },
      "execution_count": null,
      "outputs": [
        {
          "output_type": "execute_result",
          "data": {
            "text/plain": [
              "            id                                               name    host_id  \\\n",
              "13       19001                Vancouver Downtown Studio Apartment      72649   \n",
              "15       19621       Beautiful 2 Br 2 Bath + Den Yaletown Seawall      74380   \n",
              "20       26047                  The Alpha Downtown by COMFYSUITES     109845   \n",
              "21       32746                 Designer Urban Park View Townhouse      52118   \n",
              "24       42645                The Charlie Downtown by COMFYSUITES     109845   \n",
              "...        ...                                                ...        ...   \n",
              "4537  54149967               Penthouse Center downtown 1 bed room  426271818   \n",
              "4541  54179660   Million Dollar View New 2 Spacious Bedroom Unit!  219146817   \n",
              "4542  54183138  HeartDowntown Condo Modern City/Ocean/Mountain...   47283230   \n",
              "4544  54198240    Downtown Vancouver Water Views 3 bedroom 2 Bath  206979822   \n",
              "4545  54200169        Downtown Lifestyle Hotel Living for 3+ days   35410134   \n",
              "\n",
              "     host_name neighbourhood  latitude  longitude        room_type  price  \\\n",
              "13     Melanie      Downtown  49.27660 -123.12935  Entire home/apt    102   \n",
              "15      Shirin      Downtown  49.27323 -123.12032  Entire home/apt    190   \n",
              "20      Alicia      Downtown  49.28086 -123.12375  Entire home/apt    159   \n",
              "21     Liliana      Downtown  49.27920 -123.10500  Entire home/apt    127   \n",
              "24      Alicia      Downtown  49.28036 -123.12340  Entire home/apt    159   \n",
              "...        ...           ...       ...        ...              ...    ...   \n",
              "4537       Moe      Downtown  49.28400 -123.11346  Entire home/apt     90   \n",
              "4541         埃      Downtown  49.28942 -123.12566  Entire home/apt    350   \n",
              "4542    Gunnar      Downtown  49.28027 -123.12401  Entire home/apt    123   \n",
              "4544       Rey      Downtown  49.28059 -123.10969  Entire home/apt    214   \n",
              "4545      Jeff      Downtown  49.27820 -123.12180     Private room    120   \n",
              "\n",
              "      minimum_nights  number_of_reviews last_review  reviews_per_month  \\\n",
              "13                 5                142  2021-12-16               0.98   \n",
              "15                30                  0         NaN                NaN   \n",
              "20                30                 37  2022-01-07               0.29   \n",
              "21                30                 84  2021-12-15               0.60   \n",
              "24                30                 32  2021-12-16               0.23   \n",
              "...              ...                ...         ...                ...   \n",
              "4537              10                  0         NaN                NaN   \n",
              "4541              14                  0         NaN                NaN   \n",
              "4542              30                  0         NaN                NaN   \n",
              "4544               1                  0         NaN                NaN   \n",
              "4545               3                  0         NaN                NaN   \n",
              "\n",
              "      calculated_host_listings_count  availability_365  number_of_reviews_ltm  \\\n",
              "13                                 1                70                      3   \n",
              "15                                 1               233                      0   \n",
              "20                                 4               316                      3   \n",
              "21                                 2               364                      4   \n",
              "24                                 4               216                      4   \n",
              "...                              ...               ...                    ...   \n",
              "4537                               2                19                      0   \n",
              "4541                               6               365                      0   \n",
              "4542                               1               208                      0   \n",
              "4544                               1               283                      0   \n",
              "4545                               6               352                      0   \n",
              "\n",
              "        license  \n",
              "13    18-597543  \n",
              "15          NaN  \n",
              "20          NaN  \n",
              "21          NaN  \n",
              "24          NaN  \n",
              "...         ...  \n",
              "4537     Exempt  \n",
              "4541  17-118282  \n",
              "4542        NaN  \n",
              "4544  22-171072  \n",
              "4545     Exempt  \n",
              "\n",
              "[1013 rows x 17 columns]"
            ],
            "text/html": [
              "\n",
              "  <div id=\"df-9ec8e846-0daa-4c8f-b0be-09f7238932b0\">\n",
              "    <div class=\"colab-df-container\">\n",
              "      <div>\n",
              "<style scoped>\n",
              "    .dataframe tbody tr th:only-of-type {\n",
              "        vertical-align: middle;\n",
              "    }\n",
              "\n",
              "    .dataframe tbody tr th {\n",
              "        vertical-align: top;\n",
              "    }\n",
              "\n",
              "    .dataframe thead th {\n",
              "        text-align: right;\n",
              "    }\n",
              "</style>\n",
              "<table border=\"1\" class=\"dataframe\">\n",
              "  <thead>\n",
              "    <tr style=\"text-align: right;\">\n",
              "      <th></th>\n",
              "      <th>id</th>\n",
              "      <th>name</th>\n",
              "      <th>host_id</th>\n",
              "      <th>host_name</th>\n",
              "      <th>neighbourhood</th>\n",
              "      <th>latitude</th>\n",
              "      <th>longitude</th>\n",
              "      <th>room_type</th>\n",
              "      <th>price</th>\n",
              "      <th>minimum_nights</th>\n",
              "      <th>number_of_reviews</th>\n",
              "      <th>last_review</th>\n",
              "      <th>reviews_per_month</th>\n",
              "      <th>calculated_host_listings_count</th>\n",
              "      <th>availability_365</th>\n",
              "      <th>number_of_reviews_ltm</th>\n",
              "      <th>license</th>\n",
              "    </tr>\n",
              "  </thead>\n",
              "  <tbody>\n",
              "    <tr>\n",
              "      <th>13</th>\n",
              "      <td>19001</td>\n",
              "      <td>Vancouver Downtown Studio Apartment</td>\n",
              "      <td>72649</td>\n",
              "      <td>Melanie</td>\n",
              "      <td>Downtown</td>\n",
              "      <td>49.27660</td>\n",
              "      <td>-123.12935</td>\n",
              "      <td>Entire home/apt</td>\n",
              "      <td>102</td>\n",
              "      <td>5</td>\n",
              "      <td>142</td>\n",
              "      <td>2021-12-16</td>\n",
              "      <td>0.98</td>\n",
              "      <td>1</td>\n",
              "      <td>70</td>\n",
              "      <td>3</td>\n",
              "      <td>18-597543</td>\n",
              "    </tr>\n",
              "    <tr>\n",
              "      <th>15</th>\n",
              "      <td>19621</td>\n",
              "      <td>Beautiful 2 Br 2 Bath + Den Yaletown Seawall</td>\n",
              "      <td>74380</td>\n",
              "      <td>Shirin</td>\n",
              "      <td>Downtown</td>\n",
              "      <td>49.27323</td>\n",
              "      <td>-123.12032</td>\n",
              "      <td>Entire home/apt</td>\n",
              "      <td>190</td>\n",
              "      <td>30</td>\n",
              "      <td>0</td>\n",
              "      <td>NaN</td>\n",
              "      <td>NaN</td>\n",
              "      <td>1</td>\n",
              "      <td>233</td>\n",
              "      <td>0</td>\n",
              "      <td>NaN</td>\n",
              "    </tr>\n",
              "    <tr>\n",
              "      <th>20</th>\n",
              "      <td>26047</td>\n",
              "      <td>The Alpha Downtown by COMFYSUITES</td>\n",
              "      <td>109845</td>\n",
              "      <td>Alicia</td>\n",
              "      <td>Downtown</td>\n",
              "      <td>49.28086</td>\n",
              "      <td>-123.12375</td>\n",
              "      <td>Entire home/apt</td>\n",
              "      <td>159</td>\n",
              "      <td>30</td>\n",
              "      <td>37</td>\n",
              "      <td>2022-01-07</td>\n",
              "      <td>0.29</td>\n",
              "      <td>4</td>\n",
              "      <td>316</td>\n",
              "      <td>3</td>\n",
              "      <td>NaN</td>\n",
              "    </tr>\n",
              "    <tr>\n",
              "      <th>21</th>\n",
              "      <td>32746</td>\n",
              "      <td>Designer Urban Park View Townhouse</td>\n",
              "      <td>52118</td>\n",
              "      <td>Liliana</td>\n",
              "      <td>Downtown</td>\n",
              "      <td>49.27920</td>\n",
              "      <td>-123.10500</td>\n",
              "      <td>Entire home/apt</td>\n",
              "      <td>127</td>\n",
              "      <td>30</td>\n",
              "      <td>84</td>\n",
              "      <td>2021-12-15</td>\n",
              "      <td>0.60</td>\n",
              "      <td>2</td>\n",
              "      <td>364</td>\n",
              "      <td>4</td>\n",
              "      <td>NaN</td>\n",
              "    </tr>\n",
              "    <tr>\n",
              "      <th>24</th>\n",
              "      <td>42645</td>\n",
              "      <td>The Charlie Downtown by COMFYSUITES</td>\n",
              "      <td>109845</td>\n",
              "      <td>Alicia</td>\n",
              "      <td>Downtown</td>\n",
              "      <td>49.28036</td>\n",
              "      <td>-123.12340</td>\n",
              "      <td>Entire home/apt</td>\n",
              "      <td>159</td>\n",
              "      <td>30</td>\n",
              "      <td>32</td>\n",
              "      <td>2021-12-16</td>\n",
              "      <td>0.23</td>\n",
              "      <td>4</td>\n",
              "      <td>216</td>\n",
              "      <td>4</td>\n",
              "      <td>NaN</td>\n",
              "    </tr>\n",
              "    <tr>\n",
              "      <th>...</th>\n",
              "      <td>...</td>\n",
              "      <td>...</td>\n",
              "      <td>...</td>\n",
              "      <td>...</td>\n",
              "      <td>...</td>\n",
              "      <td>...</td>\n",
              "      <td>...</td>\n",
              "      <td>...</td>\n",
              "      <td>...</td>\n",
              "      <td>...</td>\n",
              "      <td>...</td>\n",
              "      <td>...</td>\n",
              "      <td>...</td>\n",
              "      <td>...</td>\n",
              "      <td>...</td>\n",
              "      <td>...</td>\n",
              "      <td>...</td>\n",
              "    </tr>\n",
              "    <tr>\n",
              "      <th>4537</th>\n",
              "      <td>54149967</td>\n",
              "      <td>Penthouse Center downtown 1 bed room</td>\n",
              "      <td>426271818</td>\n",
              "      <td>Moe</td>\n",
              "      <td>Downtown</td>\n",
              "      <td>49.28400</td>\n",
              "      <td>-123.11346</td>\n",
              "      <td>Entire home/apt</td>\n",
              "      <td>90</td>\n",
              "      <td>10</td>\n",
              "      <td>0</td>\n",
              "      <td>NaN</td>\n",
              "      <td>NaN</td>\n",
              "      <td>2</td>\n",
              "      <td>19</td>\n",
              "      <td>0</td>\n",
              "      <td>Exempt</td>\n",
              "    </tr>\n",
              "    <tr>\n",
              "      <th>4541</th>\n",
              "      <td>54179660</td>\n",
              "      <td>Million Dollar View New 2 Spacious Bedroom Unit!</td>\n",
              "      <td>219146817</td>\n",
              "      <td>埃</td>\n",
              "      <td>Downtown</td>\n",
              "      <td>49.28942</td>\n",
              "      <td>-123.12566</td>\n",
              "      <td>Entire home/apt</td>\n",
              "      <td>350</td>\n",
              "      <td>14</td>\n",
              "      <td>0</td>\n",
              "      <td>NaN</td>\n",
              "      <td>NaN</td>\n",
              "      <td>6</td>\n",
              "      <td>365</td>\n",
              "      <td>0</td>\n",
              "      <td>17-118282</td>\n",
              "    </tr>\n",
              "    <tr>\n",
              "      <th>4542</th>\n",
              "      <td>54183138</td>\n",
              "      <td>HeartDowntown Condo Modern City/Ocean/Mountain...</td>\n",
              "      <td>47283230</td>\n",
              "      <td>Gunnar</td>\n",
              "      <td>Downtown</td>\n",
              "      <td>49.28027</td>\n",
              "      <td>-123.12401</td>\n",
              "      <td>Entire home/apt</td>\n",
              "      <td>123</td>\n",
              "      <td>30</td>\n",
              "      <td>0</td>\n",
              "      <td>NaN</td>\n",
              "      <td>NaN</td>\n",
              "      <td>1</td>\n",
              "      <td>208</td>\n",
              "      <td>0</td>\n",
              "      <td>NaN</td>\n",
              "    </tr>\n",
              "    <tr>\n",
              "      <th>4544</th>\n",
              "      <td>54198240</td>\n",
              "      <td>Downtown Vancouver Water Views 3 bedroom 2 Bath</td>\n",
              "      <td>206979822</td>\n",
              "      <td>Rey</td>\n",
              "      <td>Downtown</td>\n",
              "      <td>49.28059</td>\n",
              "      <td>-123.10969</td>\n",
              "      <td>Entire home/apt</td>\n",
              "      <td>214</td>\n",
              "      <td>1</td>\n",
              "      <td>0</td>\n",
              "      <td>NaN</td>\n",
              "      <td>NaN</td>\n",
              "      <td>1</td>\n",
              "      <td>283</td>\n",
              "      <td>0</td>\n",
              "      <td>22-171072</td>\n",
              "    </tr>\n",
              "    <tr>\n",
              "      <th>4545</th>\n",
              "      <td>54200169</td>\n",
              "      <td>Downtown Lifestyle Hotel Living for 3+ days</td>\n",
              "      <td>35410134</td>\n",
              "      <td>Jeff</td>\n",
              "      <td>Downtown</td>\n",
              "      <td>49.27820</td>\n",
              "      <td>-123.12180</td>\n",
              "      <td>Private room</td>\n",
              "      <td>120</td>\n",
              "      <td>3</td>\n",
              "      <td>0</td>\n",
              "      <td>NaN</td>\n",
              "      <td>NaN</td>\n",
              "      <td>6</td>\n",
              "      <td>352</td>\n",
              "      <td>0</td>\n",
              "      <td>Exempt</td>\n",
              "    </tr>\n",
              "  </tbody>\n",
              "</table>\n",
              "<p>1013 rows × 17 columns</p>\n",
              "</div>\n",
              "      <button class=\"colab-df-convert\" onclick=\"convertToInteractive('df-9ec8e846-0daa-4c8f-b0be-09f7238932b0')\"\n",
              "              title=\"Convert this dataframe to an interactive table.\"\n",
              "              style=\"display:none;\">\n",
              "        \n",
              "  <svg xmlns=\"http://www.w3.org/2000/svg\" height=\"24px\"viewBox=\"0 0 24 24\"\n",
              "       width=\"24px\">\n",
              "    <path d=\"M0 0h24v24H0V0z\" fill=\"none\"/>\n",
              "    <path d=\"M18.56 5.44l.94 2.06.94-2.06 2.06-.94-2.06-.94-.94-2.06-.94 2.06-2.06.94zm-11 1L8.5 8.5l.94-2.06 2.06-.94-2.06-.94L8.5 2.5l-.94 2.06-2.06.94zm10 10l.94 2.06.94-2.06 2.06-.94-2.06-.94-.94-2.06-.94 2.06-2.06.94z\"/><path d=\"M17.41 7.96l-1.37-1.37c-.4-.4-.92-.59-1.43-.59-.52 0-1.04.2-1.43.59L10.3 9.45l-7.72 7.72c-.78.78-.78 2.05 0 2.83L4 21.41c.39.39.9.59 1.41.59.51 0 1.02-.2 1.41-.59l7.78-7.78 2.81-2.81c.8-.78.8-2.07 0-2.86zM5.41 20L4 18.59l7.72-7.72 1.47 1.35L5.41 20z\"/>\n",
              "  </svg>\n",
              "      </button>\n",
              "      \n",
              "  <style>\n",
              "    .colab-df-container {\n",
              "      display:flex;\n",
              "      flex-wrap:wrap;\n",
              "      gap: 12px;\n",
              "    }\n",
              "\n",
              "    .colab-df-convert {\n",
              "      background-color: #E8F0FE;\n",
              "      border: none;\n",
              "      border-radius: 50%;\n",
              "      cursor: pointer;\n",
              "      display: none;\n",
              "      fill: #1967D2;\n",
              "      height: 32px;\n",
              "      padding: 0 0 0 0;\n",
              "      width: 32px;\n",
              "    }\n",
              "\n",
              "    .colab-df-convert:hover {\n",
              "      background-color: #E2EBFA;\n",
              "      box-shadow: 0px 1px 2px rgba(60, 64, 67, 0.3), 0px 1px 3px 1px rgba(60, 64, 67, 0.15);\n",
              "      fill: #174EA6;\n",
              "    }\n",
              "\n",
              "    [theme=dark] .colab-df-convert {\n",
              "      background-color: #3B4455;\n",
              "      fill: #D2E3FC;\n",
              "    }\n",
              "\n",
              "    [theme=dark] .colab-df-convert:hover {\n",
              "      background-color: #434B5C;\n",
              "      box-shadow: 0px 1px 3px 1px rgba(0, 0, 0, 0.15);\n",
              "      filter: drop-shadow(0px 1px 2px rgba(0, 0, 0, 0.3));\n",
              "      fill: #FFFFFF;\n",
              "    }\n",
              "  </style>\n",
              "\n",
              "      <script>\n",
              "        const buttonEl =\n",
              "          document.querySelector('#df-9ec8e846-0daa-4c8f-b0be-09f7238932b0 button.colab-df-convert');\n",
              "        buttonEl.style.display =\n",
              "          google.colab.kernel.accessAllowed ? 'block' : 'none';\n",
              "\n",
              "        async function convertToInteractive(key) {\n",
              "          const element = document.querySelector('#df-9ec8e846-0daa-4c8f-b0be-09f7238932b0');\n",
              "          const dataTable =\n",
              "            await google.colab.kernel.invokeFunction('convertToInteractive',\n",
              "                                                     [key], {});\n",
              "          if (!dataTable) return;\n",
              "\n",
              "          const docLinkHtml = 'Like what you see? Visit the ' +\n",
              "            '<a target=\"_blank\" href=https://colab.research.google.com/notebooks/data_table.ipynb>data table notebook</a>'\n",
              "            + ' to learn more about interactive tables.';\n",
              "          element.innerHTML = '';\n",
              "          dataTable['output_type'] = 'display_data';\n",
              "          await google.colab.output.renderOutput(dataTable, element);\n",
              "          const docLink = document.createElement('div');\n",
              "          docLink.innerHTML = docLinkHtml;\n",
              "          element.appendChild(docLink);\n",
              "        }\n",
              "      </script>\n",
              "    </div>\n",
              "  </div>\n",
              "  "
            ]
          },
          "metadata": {},
          "execution_count": 18
        }
      ]
    },
    {
      "cell_type": "markdown",
      "source": [
        "As Latitudes and Longitudes are provided for properties, it is possible to plot each point. For this, it is considered `x=longitude` e `y=latitude`."
      ],
      "metadata": {
        "id": "5D-Qc8NnAno5"
      }
    },
    {
      "cell_type": "code",
      "source": [
        "# plot properties by latitude-longitude\n",
        "df_clean.plot(kind='scatter', x='longitude', y='latitude', )"
      ],
      "metadata": {
        "id": "-i_xBHvGA2jH",
        "colab": {
          "base_uri": "https://localhost:8080/",
          "height": 296
        },
        "outputId": "4719b392-b02e-422c-ccc0-d3ebdc23f3ac"
      },
      "execution_count": null,
      "outputs": [
        {
          "output_type": "execute_result",
          "data": {
            "text/plain": [
              "<matplotlib.axes._subplots.AxesSubplot at 0x7f6a260aca90>"
            ]
          },
          "metadata": {},
          "execution_count": 19
        },
        {
          "output_type": "display_data",
          "data": {
            "text/plain": [
              "<Figure size 432x288 with 1 Axes>"
            ],
            "image/png": "[encoded data removed]"
          },
          "metadata": {
            "needs_background": "light"
          }
        }
      ]
    }
  ]
}